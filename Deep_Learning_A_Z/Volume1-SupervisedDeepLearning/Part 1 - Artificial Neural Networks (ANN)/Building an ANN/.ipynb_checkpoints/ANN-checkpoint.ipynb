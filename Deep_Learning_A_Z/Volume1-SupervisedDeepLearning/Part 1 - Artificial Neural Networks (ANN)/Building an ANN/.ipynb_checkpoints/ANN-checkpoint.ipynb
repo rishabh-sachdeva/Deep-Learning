{
 "cells": [
  {
   "cell_type": "markdown",
   "metadata": {},
   "source": [
    "## Data Preprocessing"
   ]
  },
  {
   "cell_type": "code",
   "execution_count": 74,
   "metadata": {},
   "outputs": [],
   "source": [
    "# Artificial Neural Network\n",
    "\n",
    "# Part 1 - Data Preprocessing\n",
    "\n",
    "# Importing the libraries\n",
    "import numpy as np\n",
    "import matplotlib.pyplot as plt\n",
    "import pandas as pd\n",
    "\n",
    "# Importing the dataset\n",
    "dataset = pd.read_csv('Churn_Modelling.csv')\n",
    "X = dataset.iloc[:, 3:13]\n",
    "y = dataset.iloc[:, 13]\n"
   ]
  },
  {
   "cell_type": "code",
   "execution_count": 75,
   "metadata": {},
   "outputs": [
    {
     "data": {
      "text/html": [
       "<div>\n",
       "<style scoped>\n",
       "    .dataframe tbody tr th:only-of-type {\n",
       "        vertical-align: middle;\n",
       "    }\n",
       "\n",
       "    .dataframe tbody tr th {\n",
       "        vertical-align: top;\n",
       "    }\n",
       "\n",
       "    .dataframe thead th {\n",
       "        text-align: right;\n",
       "    }\n",
       "</style>\n",
       "<table border=\"1\" class=\"dataframe\">\n",
       "  <thead>\n",
       "    <tr style=\"text-align: right;\">\n",
       "      <th></th>\n",
       "      <th>CreditScore</th>\n",
       "      <th>Geography</th>\n",
       "      <th>Gender</th>\n",
       "      <th>Age</th>\n",
       "      <th>Tenure</th>\n",
       "      <th>Balance</th>\n",
       "      <th>NumOfProducts</th>\n",
       "      <th>HasCrCard</th>\n",
       "      <th>IsActiveMember</th>\n",
       "      <th>EstimatedSalary</th>\n",
       "    </tr>\n",
       "  </thead>\n",
       "  <tbody>\n",
       "    <tr>\n",
       "      <th>0</th>\n",
       "      <td>619</td>\n",
       "      <td>France</td>\n",
       "      <td>Female</td>\n",
       "      <td>42</td>\n",
       "      <td>2</td>\n",
       "      <td>0.00</td>\n",
       "      <td>1</td>\n",
       "      <td>1</td>\n",
       "      <td>1</td>\n",
       "      <td>101348.88</td>\n",
       "    </tr>\n",
       "    <tr>\n",
       "      <th>1</th>\n",
       "      <td>608</td>\n",
       "      <td>Spain</td>\n",
       "      <td>Female</td>\n",
       "      <td>41</td>\n",
       "      <td>1</td>\n",
       "      <td>83807.86</td>\n",
       "      <td>1</td>\n",
       "      <td>0</td>\n",
       "      <td>1</td>\n",
       "      <td>112542.58</td>\n",
       "    </tr>\n",
       "    <tr>\n",
       "      <th>2</th>\n",
       "      <td>502</td>\n",
       "      <td>France</td>\n",
       "      <td>Female</td>\n",
       "      <td>42</td>\n",
       "      <td>8</td>\n",
       "      <td>159660.80</td>\n",
       "      <td>3</td>\n",
       "      <td>1</td>\n",
       "      <td>0</td>\n",
       "      <td>113931.57</td>\n",
       "    </tr>\n",
       "    <tr>\n",
       "      <th>3</th>\n",
       "      <td>699</td>\n",
       "      <td>France</td>\n",
       "      <td>Female</td>\n",
       "      <td>39</td>\n",
       "      <td>1</td>\n",
       "      <td>0.00</td>\n",
       "      <td>2</td>\n",
       "      <td>0</td>\n",
       "      <td>0</td>\n",
       "      <td>93826.63</td>\n",
       "    </tr>\n",
       "    <tr>\n",
       "      <th>4</th>\n",
       "      <td>850</td>\n",
       "      <td>Spain</td>\n",
       "      <td>Female</td>\n",
       "      <td>43</td>\n",
       "      <td>2</td>\n",
       "      <td>125510.82</td>\n",
       "      <td>1</td>\n",
       "      <td>1</td>\n",
       "      <td>1</td>\n",
       "      <td>79084.10</td>\n",
       "    </tr>\n",
       "  </tbody>\n",
       "</table>\n",
       "</div>"
      ],
      "text/plain": [
       "   CreditScore Geography  Gender  Age  Tenure    Balance  NumOfProducts  \\\n",
       "0          619    France  Female   42       2       0.00              1   \n",
       "1          608     Spain  Female   41       1   83807.86              1   \n",
       "2          502    France  Female   42       8  159660.80              3   \n",
       "3          699    France  Female   39       1       0.00              2   \n",
       "4          850     Spain  Female   43       2  125510.82              1   \n",
       "\n",
       "   HasCrCard  IsActiveMember  EstimatedSalary  \n",
       "0          1               1        101348.88  \n",
       "1          0               1        112542.58  \n",
       "2          1               0        113931.57  \n",
       "3          0               0         93826.63  \n",
       "4          1               1         79084.10  "
      ]
     },
     "execution_count": 75,
     "metadata": {},
     "output_type": "execute_result"
    }
   ],
   "source": [
    "X.head()"
   ]
  },
  {
   "cell_type": "code",
   "execution_count": 76,
   "metadata": {},
   "outputs": [
    {
     "data": {
      "text/plain": [
       "0    1\n",
       "1    0\n",
       "2    1\n",
       "3    0\n",
       "4    0\n",
       "Name: Exited, dtype: int64"
      ]
     },
     "execution_count": 76,
     "metadata": {},
     "output_type": "execute_result"
    }
   ],
   "source": [
    "y.head()"
   ]
  },
  {
   "cell_type": "code",
   "execution_count": 77,
   "metadata": {},
   "outputs": [],
   "source": [
    "X = X.values\n",
    "y = y.values"
   ]
  },
  {
   "cell_type": "code",
   "execution_count": 79,
   "metadata": {},
   "outputs": [],
   "source": [
    "#Categorical data encoding\n",
    "from sklearn.preprocessing import LabelEncoder, OneHotEncoder\n",
    "labelEncoder_geo = LabelEncoder()\n",
    "X[:,1] = labelEncoder_geo.fit_transform(X[:,1])\n",
    "\n",
    "labelEncoder_gen = LabelEncoder()\n",
    "X[:,2] = labelEncoder_geo.fit_transform(X[:,2])"
   ]
  },
  {
   "cell_type": "code",
   "execution_count": 80,
   "metadata": {},
   "outputs": [],
   "source": [
    "# Creating dummy variables for category : country\n",
    "onehotencoder = OneHotEncoder(categorical_features = [1])\n",
    "X = onehotencoder.fit_transform(X).toarray()"
   ]
  },
  {
   "cell_type": "code",
   "execution_count": 82,
   "metadata": {},
   "outputs": [],
   "source": [
    "X = X[:,1:] # to avoid dummy variable trap : 1 can be determined by other 2"
   ]
  },
  {
   "cell_type": "code",
   "execution_count": 86,
   "metadata": {},
   "outputs": [],
   "source": [
    "# splitting training set and test set\n",
    "from sklearn.model_selection import train_test_split\n",
    "X_train,X_test,y_train, y_test = train_test_split(X,y, test_size =0.2, random_state=0)\n",
    "\n"
   ]
  },
  {
   "cell_type": "code",
   "execution_count": 87,
   "metadata": {},
   "outputs": [],
   "source": [
    "from sklearn.preprocessing import StandardScaler\n",
    "sc = StandardScaler()\n",
    "X_train = sc.fit_transform(X_train)\n",
    "X_test = sc.fit_transform(X_test)"
   ]
  },
  {
   "cell_type": "code",
   "execution_count": 105,
   "metadata": {},
   "outputs": [
    {
     "data": {
      "text/plain": [
       "(8000, 11)"
      ]
     },
     "execution_count": 105,
     "metadata": {},
     "output_type": "execute_result"
    }
   ],
   "source": [
    "X_train.shape"
   ]
  },
  {
   "cell_type": "markdown",
   "metadata": {},
   "source": [
    "## Building ANN"
   ]
  },
  {
   "cell_type": "code",
   "execution_count": null,
   "metadata": {},
   "outputs": [],
   "source": [
    "import keras"
   ]
  },
  {
   "cell_type": "code",
   "execution_count": 91,
   "metadata": {},
   "outputs": [],
   "source": [
    "from keras.models import Sequential"
   ]
  },
  {
   "cell_type": "code",
   "execution_count": 92,
   "metadata": {},
   "outputs": [],
   "source": [
    "from keras.layers import Dense"
   ]
  },
  {
   "cell_type": "code",
   "execution_count": 108,
   "metadata": {},
   "outputs": [
    {
     "name": "stdout",
     "output_type": "stream",
     "text": [
      "WARNING:tensorflow:From C:\\Users\\Rishabh\\Anaconda3\\lib\\site-packages\\tensorflow\\python\\framework\\op_def_library.py:263: colocate_with (from tensorflow.python.framework.ops) is deprecated and will be removed in a future version.\n",
      "Instructions for updating:\n",
      "Colocations handled automatically by placer.\n"
     ]
    },
    {
     "name": "stderr",
     "output_type": "stream",
     "text": [
      "C:\\Users\\Rishabh\\Anaconda3\\lib\\site-packages\\ipykernel_launcher.py:5: UserWarning: Update your `Dense` call to the Keras 2 API: `Dense(activation=\"relu\", input_dim=11, units=6, kernel_initializer=\"uniform\")`\n",
      "  \"\"\"\n"
     ]
    }
   ],
   "source": [
    "#initialize ANN\n",
    "classifier = Sequential()\n",
    "#adding input layer and first hidden layer\n",
    "#general concept : no. of hidden layers =  avg. of no. of nodes in input layer and output layer = (11 + 1)/2\n",
    "classifier.add(Dense(output_dim = 6,init = 'uniform', activation = 'relu',input_dim=11 ))"
   ]
  },
  {
   "cell_type": "code",
   "execution_count": 109,
   "metadata": {},
   "outputs": [
    {
     "name": "stderr",
     "output_type": "stream",
     "text": [
      "C:\\Users\\Rishabh\\Anaconda3\\lib\\site-packages\\ipykernel_launcher.py:2: UserWarning: Update your `Dense` call to the Keras 2 API: `Dense(activation=\"relu\", units=6, kernel_initializer=\"uniform\")`\n",
      "  \n"
     ]
    }
   ],
   "source": [
    "#second hidden layer\n",
    "classifier.add(Dense(output_dim = 6,init = 'uniform', activation = 'relu'))\n"
   ]
  },
  {
   "cell_type": "code",
   "execution_count": 111,
   "metadata": {},
   "outputs": [
    {
     "name": "stderr",
     "output_type": "stream",
     "text": [
      "C:\\Users\\Rishabh\\Anaconda3\\lib\\site-packages\\ipykernel_launcher.py:3: UserWarning: Update your `Dense` call to the Keras 2 API: `Dense(units=1, activation=\"sigmoid\", kernel_initializer=\"uniform\")`\n",
      "  This is separate from the ipykernel package so we can avoid doing imports until\n"
     ]
    }
   ],
   "source": [
    "# output layer -- change activation function to get probabilities in the final step , \n",
    "#if more than 2 cats, use softmax instead of sigmoid\n",
    "classifier.add(Dense(units = 1,init = 'uniform', activation = 'sigmoid' ))"
   ]
  },
  {
   "cell_type": "code",
   "execution_count": 112,
   "metadata": {},
   "outputs": [],
   "source": [
    "##Compiling the ANN , adam is efficient stochastic gradient descent algorithm, loss differs if output has more than 2 cats\n",
    "classifier.compile(optimizer='adam', loss='binary_crossentropy',metrics=['accuracy'])"
   ]
  },
  {
   "cell_type": "code",
   "execution_count": 113,
   "metadata": {},
   "outputs": [
    {
     "name": "stdout",
     "output_type": "stream",
     "text": [
      "WARNING:tensorflow:From C:\\Users\\Rishabh\\Anaconda3\\lib\\site-packages\\tensorflow\\python\\ops\\math_ops.py:3066: to_int32 (from tensorflow.python.ops.math_ops) is deprecated and will be removed in a future version.\n",
      "Instructions for updating:\n",
      "Use tf.cast instead.\n",
      "Epoch 1/100\n",
      "8000/8000 [==============================] - 2s 196us/step - loss: 0.4899 - acc: 0.7957\n",
      "Epoch 2/100\n",
      "8000/8000 [==============================] - 1s 138us/step - loss: 0.4279 - acc: 0.7960\n",
      "Epoch 3/100\n",
      "8000/8000 [==============================] - 1s 136us/step - loss: 0.4228 - acc: 0.7960\n",
      "Epoch 4/100\n",
      "8000/8000 [==============================] - 1s 118us/step - loss: 0.4191 - acc: 0.8095\n",
      "Epoch 5/100\n",
      "8000/8000 [==============================] - 1s 116us/step - loss: 0.4170 - acc: 0.8239\n",
      "Epoch 6/100\n",
      "8000/8000 [==============================] - 1s 127us/step - loss: 0.4156 - acc: 0.8254\n",
      "Epoch 7/100\n",
      "8000/8000 [==============================] - 1s 176us/step - loss: 0.4140 - acc: 0.8286\n",
      "Epoch 8/100\n",
      "8000/8000 [==============================] - 1s 159us/step - loss: 0.4124 - acc: 0.8320\n",
      "Epoch 9/100\n",
      "8000/8000 [==============================] - 1s 116us/step - loss: 0.4121 - acc: 0.8305\n",
      "Epoch 10/100\n",
      "8000/8000 [==============================] - 1s 115us/step - loss: 0.4108 - acc: 0.8339\n",
      "Epoch 11/100\n",
      "8000/8000 [==============================] - 1s 114us/step - loss: 0.4099 - acc: 0.8346\n",
      "Epoch 12/100\n",
      "8000/8000 [==============================] - 1s 115us/step - loss: 0.4091 - acc: 0.8340\n",
      "Epoch 13/100\n",
      "8000/8000 [==============================] - 1s 131us/step - loss: 0.4082 - acc: 0.8335\n",
      "Epoch 14/100\n",
      "8000/8000 [==============================] - 1s 133us/step - loss: 0.4079 - acc: 0.8335\n",
      "Epoch 15/100\n",
      "8000/8000 [==============================] - 1s 116us/step - loss: 0.4073 - acc: 0.8346\n",
      "Epoch 16/100\n",
      "8000/8000 [==============================] - 1s 122us/step - loss: 0.4069 - acc: 0.8336\n",
      "Epoch 17/100\n",
      "8000/8000 [==============================] - 1s 133us/step - loss: 0.4063 - acc: 0.8337\n",
      "Epoch 18/100\n",
      "8000/8000 [==============================] - 1s 157us/step - loss: 0.4060 - acc: 0.8345\n",
      "Epoch 19/100\n",
      "8000/8000 [==============================] - 1s 125us/step - loss: 0.4055 - acc: 0.8350\n",
      "Epoch 20/100\n",
      "8000/8000 [==============================] - 1s 137us/step - loss: 0.4049 - acc: 0.8337\n",
      "Epoch 21/100\n",
      "8000/8000 [==============================] - 1s 120us/step - loss: 0.4049 - acc: 0.8339\n",
      "Epoch 22/100\n",
      "8000/8000 [==============================] - 1s 121us/step - loss: 0.4047 - acc: 0.8344\n",
      "Epoch 23/100\n",
      "8000/8000 [==============================] - 1s 117us/step - loss: 0.4042 - acc: 0.8341\n",
      "Epoch 24/100\n",
      "8000/8000 [==============================] - 1s 161us/step - loss: 0.4041 - acc: 0.8339\n",
      "Epoch 25/100\n",
      "8000/8000 [==============================] - 1s 123us/step - loss: 0.4038 - acc: 0.8339\n",
      "Epoch 26/100\n",
      "8000/8000 [==============================] - 1s 125us/step - loss: 0.4036 - acc: 0.8349\n",
      "Epoch 27/100\n",
      "8000/8000 [==============================] - 1s 140us/step - loss: 0.4034 - acc: 0.8327\n",
      "Epoch 28/100\n",
      "8000/8000 [==============================] - 1s 120us/step - loss: 0.4031 - acc: 0.8350\n",
      "Epoch 29/100\n",
      "8000/8000 [==============================] - 1s 120us/step - loss: 0.4030 - acc: 0.8350\n",
      "Epoch 30/100\n",
      "8000/8000 [==============================] - 1s 138us/step - loss: 0.4032 - acc: 0.8356\n",
      "Epoch 31/100\n",
      "8000/8000 [==============================] - 1s 122us/step - loss: 0.4029 - acc: 0.8350\n",
      "Epoch 32/100\n",
      "8000/8000 [==============================] - 1s 126us/step - loss: 0.4024 - acc: 0.8336\n",
      "Epoch 33/100\n",
      "8000/8000 [==============================] - 1s 141us/step - loss: 0.4022 - acc: 0.8364\n",
      "Epoch 34/100\n",
      "8000/8000 [==============================] - 1s 123us/step - loss: 0.4020 - acc: 0.8352\n",
      "Epoch 35/100\n",
      "8000/8000 [==============================] - 1s 142us/step - loss: 0.4024 - acc: 0.8350\n",
      "Epoch 36/100\n",
      "8000/8000 [==============================] - 2s 214us/step - loss: 0.4021 - acc: 0.8350\n",
      "Epoch 37/100\n",
      "8000/8000 [==============================] - 1s 167us/step - loss: 0.4020 - acc: 0.8337\n",
      "Epoch 38/100\n",
      "8000/8000 [==============================] - 1s 182us/step - loss: 0.4022 - acc: 0.8347\n",
      "Epoch 39/100\n",
      "8000/8000 [==============================] - 1s 186us/step - loss: 0.4017 - acc: 0.8354\n",
      "Epoch 40/100\n",
      "8000/8000 [==============================] - 1s 125us/step - loss: 0.4019 - acc: 0.8352\n",
      "Epoch 41/100\n",
      "8000/8000 [==============================] - 1s 125us/step - loss: 0.4018 - acc: 0.8354\n",
      "Epoch 42/100\n",
      "8000/8000 [==============================] - 1s 133us/step - loss: 0.4016 - acc: 0.8352\n",
      "Epoch 43/100\n",
      "8000/8000 [==============================] - 1s 136us/step - loss: 0.4016 - acc: 0.8334\n",
      "Epoch 44/100\n",
      "8000/8000 [==============================] - 1s 134us/step - loss: 0.4017 - acc: 0.8351\n",
      "Epoch 45/100\n",
      "8000/8000 [==============================] - 1s 122us/step - loss: 0.4014 - acc: 0.8355\n",
      "Epoch 46/100\n",
      "8000/8000 [==============================] - 1s 123us/step - loss: 0.4014 - acc: 0.8345\n",
      "Epoch 47/100\n",
      "8000/8000 [==============================] - 1s 138us/step - loss: 0.4013 - acc: 0.8356\n",
      "Epoch 48/100\n",
      "8000/8000 [==============================] - 1s 130us/step - loss: 0.4014 - acc: 0.8339\n",
      "Epoch 49/100\n",
      "8000/8000 [==============================] - 1s 122us/step - loss: 0.4017 - acc: 0.8357\n",
      "Epoch 50/100\n",
      "8000/8000 [==============================] - 1s 122us/step - loss: 0.4016 - acc: 0.8347\n",
      "Epoch 51/100\n",
      "8000/8000 [==============================] - 1s 128us/step - loss: 0.4012 - acc: 0.8346\n",
      "Epoch 52/100\n",
      "8000/8000 [==============================] - 1s 135us/step - loss: 0.4012 - acc: 0.8354\n",
      "Epoch 53/100\n",
      "8000/8000 [==============================] - 1s 183us/step - loss: 0.4012 - acc: 0.8340\n",
      "Epoch 54/100\n",
      "8000/8000 [==============================] - 1s 154us/step - loss: 0.4012 - acc: 0.8349\n",
      "Epoch 55/100\n",
      "8000/8000 [==============================] - 1s 147us/step - loss: 0.4011 - acc: 0.8350\n",
      "Epoch 56/100\n",
      "8000/8000 [==============================] - 1s 122us/step - loss: 0.4012 - acc: 0.8352\n",
      "Epoch 57/100\n",
      "8000/8000 [==============================] - 1s 155us/step - loss: 0.4012 - acc: 0.8349\n",
      "Epoch 58/100\n",
      "8000/8000 [==============================] - 1s 145us/step - loss: 0.4008 - acc: 0.8359\n",
      "Epoch 59/100\n",
      "8000/8000 [==============================] - 1s 144us/step - loss: 0.4010 - acc: 0.8350\n",
      "Epoch 60/100\n",
      "8000/8000 [==============================] - 1s 146us/step - loss: 0.4012 - acc: 0.8352\n",
      "Epoch 61/100\n",
      "8000/8000 [==============================] - 1s 155us/step - loss: 0.4008 - acc: 0.8365\n",
      "Epoch 62/100\n",
      "8000/8000 [==============================] - 1s 150us/step - loss: 0.4009 - acc: 0.8346\n",
      "Epoch 63/100\n",
      "8000/8000 [==============================] - 1s 139us/step - loss: 0.4011 - acc: 0.8351\n",
      "Epoch 64/100\n",
      "8000/8000 [==============================] - 1s 150us/step - loss: 0.4007 - acc: 0.8356\n",
      "Epoch 65/100\n",
      "8000/8000 [==============================] - 1s 144us/step - loss: 0.4005 - acc: 0.8356\n",
      "Epoch 66/100\n",
      "8000/8000 [==============================] - 1s 151us/step - loss: 0.4006 - acc: 0.8356\n",
      "Epoch 67/100\n",
      "8000/8000 [==============================] - 1s 144us/step - loss: 0.4010 - acc: 0.8351\n",
      "Epoch 68/100\n",
      "8000/8000 [==============================] - 1s 139us/step - loss: 0.4007 - acc: 0.8346\n",
      "Epoch 69/100\n",
      "8000/8000 [==============================] - 1s 151us/step - loss: 0.4008 - acc: 0.8360\n",
      "Epoch 70/100\n",
      "8000/8000 [==============================] - 1s 150us/step - loss: 0.4007 - acc: 0.8354\n",
      "Epoch 71/100\n",
      "8000/8000 [==============================] - 1s 139us/step - loss: 0.4008 - acc: 0.8356\n",
      "Epoch 72/100\n",
      "8000/8000 [==============================] - 1s 171us/step - loss: 0.4008 - acc: 0.8365\n",
      "Epoch 73/100\n",
      "8000/8000 [==============================] - 1s 163us/step - loss: 0.4007 - acc: 0.8352\n",
      "Epoch 74/100\n",
      "8000/8000 [==============================] - 1s 154us/step - loss: 0.4008 - acc: 0.8355\n",
      "Epoch 75/100\n",
      "8000/8000 [==============================] - 1s 152us/step - loss: 0.4003 - acc: 0.8365\n",
      "Epoch 76/100\n",
      "8000/8000 [==============================] - 1s 151us/step - loss: 0.4004 - acc: 0.8346\n",
      "Epoch 77/100\n",
      "8000/8000 [==============================] - 1s 154us/step - loss: 0.4005 - acc: 0.8347\n",
      "Epoch 78/100\n",
      "8000/8000 [==============================] - 1s 137us/step - loss: 0.4003 - acc: 0.8364\n",
      "Epoch 79/100\n",
      "8000/8000 [==============================] - 1s 146us/step - loss: 0.4005 - acc: 0.8362\n",
      "Epoch 80/100\n",
      "8000/8000 [==============================] - 1s 133us/step - loss: 0.4007 - acc: 0.8362\n",
      "Epoch 81/100\n",
      "8000/8000 [==============================] - 1s 133us/step - loss: 0.4002 - acc: 0.8359\n",
      "Epoch 82/100\n",
      "8000/8000 [==============================] - 1s 143us/step - loss: 0.4008 - acc: 0.8361\n",
      "Epoch 83/100\n",
      "8000/8000 [==============================] - 1s 132us/step - loss: 0.4005 - acc: 0.8345\n",
      "Epoch 84/100\n",
      "8000/8000 [==============================] - 1s 143us/step - loss: 0.4007 - acc: 0.8362\n",
      "Epoch 85/100\n",
      "8000/8000 [==============================] - 1s 135us/step - loss: 0.4004 - acc: 0.8351\n",
      "Epoch 86/100\n",
      "8000/8000 [==============================] - 1s 117us/step - loss: 0.4002 - acc: 0.8356\n",
      "Epoch 87/100\n",
      "8000/8000 [==============================] - 1s 142us/step - loss: 0.4004 - acc: 0.8359\n",
      "Epoch 88/100\n",
      "8000/8000 [==============================] - 2s 268us/step - loss: 0.3998 - acc: 0.8350\n",
      "Epoch 89/100\n",
      "8000/8000 [==============================] - 2s 269us/step - loss: 0.3995 - acc: 0.8371\n",
      "Epoch 90/100\n",
      "8000/8000 [==============================] - 1s 180us/step - loss: 0.3991 - acc: 0.8354\n",
      "Epoch 91/100\n",
      "8000/8000 [==============================] - 1s 180us/step - loss: 0.3991 - acc: 0.8352\n",
      "Epoch 92/100\n",
      "8000/8000 [==============================] - 1s 134us/step - loss: 0.3990 - acc: 0.8362\n",
      "Epoch 93/100\n",
      "8000/8000 [==============================] - 1s 166us/step - loss: 0.3986 - acc: 0.8362\n",
      "Epoch 94/100\n",
      "8000/8000 [==============================] - 1s 141us/step - loss: 0.3981 - acc: 0.8365\n",
      "Epoch 95/100\n",
      "8000/8000 [==============================] - 1s 138us/step - loss: 0.3981 - acc: 0.8347\n",
      "Epoch 96/100\n",
      "8000/8000 [==============================] - 1s 139us/step - loss: 0.3977 - acc: 0.8357\n",
      "Epoch 97/100\n",
      "8000/8000 [==============================] - 1s 138us/step - loss: 0.3975 - acc: 0.8357\n",
      "Epoch 98/100\n",
      "8000/8000 [==============================] - 1s 137us/step - loss: 0.3969 - acc: 0.8342\n",
      "Epoch 99/100\n",
      "8000/8000 [==============================] - 1s 136us/step - loss: 0.3971 - acc: 0.8357\n",
      "Epoch 100/100\n",
      "8000/8000 [==============================] - 1s 123us/step - loss: 0.3965 - acc: 0.8355\n"
     ]
    },
    {
     "data": {
      "text/plain": [
       "<keras.callbacks.History at 0x1898ae21fd0>"
      ]
     },
     "execution_count": 113,
     "metadata": {},
     "output_type": "execute_result"
    }
   ],
   "source": [
    "classifier.fit(X_train, y_train, batch_size=10,epochs=100)"
   ]
  },
  {
   "cell_type": "code",
   "execution_count": 143,
   "metadata": {},
   "outputs": [],
   "source": [
    "y_pred = classifier.predict(X_test)"
   ]
  },
  {
   "cell_type": "code",
   "execution_count": 144,
   "metadata": {},
   "outputs": [],
   "source": [
    "y_pred = (y_pred>0.5)"
   ]
  },
  {
   "cell_type": "code",
   "execution_count": 145,
   "metadata": {},
   "outputs": [],
   "source": [
    "#prepare confusion matrix\n",
    "from sklearn.metrics import confusion_matrix\n",
    "cm = confusion_matrix(y_test, y_pred)"
   ]
  },
  {
   "cell_type": "code",
   "execution_count": 146,
   "metadata": {},
   "outputs": [
    {
     "data": {
      "text/plain": [
       "array([[1538,   57],\n",
       "       [ 260,  145]], dtype=int64)"
      ]
     },
     "execution_count": 146,
     "metadata": {},
     "output_type": "execute_result"
    }
   ],
   "source": [
    "cm # cm[0][0] = True Neg, cm [0][1] = False positives, cm[1][0] = False Neg, cm[1][1] - true positive"
   ]
  },
  {
   "cell_type": "code",
   "execution_count": 147,
   "metadata": {},
   "outputs": [],
   "source": [
    "accuracy_model = (cm[0][0]+ cm[1][1])/2000"
   ]
  },
  {
   "cell_type": "code",
   "execution_count": 148,
   "metadata": {},
   "outputs": [
    {
     "data": {
      "text/plain": [
       "0.8415"
      ]
     },
     "execution_count": 148,
     "metadata": {},
     "output_type": "execute_result"
    }
   ],
   "source": [
    "accuracy_model"
   ]
  },
  {
   "cell_type": "code",
   "execution_count": null,
   "metadata": {},
   "outputs": [],
   "source": [
    "##Geography: France\n",
    "##Credit Score: 600\n",
    "##Gender: Male\n",
    "##Age: 40 years old\n",
    "##Tenure: 3 years\n",
    "##Balance: $60000\n",
    "##Number of Products: 2\n",
    "##Does this customer have a credit card ? Yes\n",
    "##Is this customer an Active Member: Yes\n",
    "##Estimated Salary: $50000"
   ]
  }
 ],
 "metadata": {
  "kernelspec": {
   "display_name": "Python 3",
   "language": "python",
   "name": "python3"
  },
  "language_info": {
   "codemirror_mode": {
    "name": "ipython",
    "version": 3
   },
   "file_extension": ".py",
   "mimetype": "text/x-python",
   "name": "python",
   "nbconvert_exporter": "python",
   "pygments_lexer": "ipython3",
   "version": "3.7.0"
  }
 },
 "nbformat": 4,
 "nbformat_minor": 2
}
